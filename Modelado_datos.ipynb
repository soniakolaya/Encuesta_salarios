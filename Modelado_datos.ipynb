{
 "cells": [
  {
   "cell_type": "markdown",
   "metadata": {},
   "source": [
    "#### Importación de librerias"
   ]
  },
  {
   "cell_type": "code",
   "execution_count": 564,
   "metadata": {},
   "outputs": [],
   "source": [
    "import pandas as pd\n",
    "import numpy as np\n",
    "import matplotlib.pyplot as plt\n",
    "import seaborn as sns\n",
    "import pycountry\n",
    "import re\n",
    "import unicodedata\n",
    "import requests\n"
   ]
  },
  {
   "cell_type": "markdown",
   "metadata": {},
   "source": [
    "#### Cargue de datos"
   ]
  },
  {
   "cell_type": "code",
   "execution_count": 565,
   "metadata": {},
   "outputs": [],
   "source": [
    "data = pd.read_csv('data/raw_data.csv',delimiter=',')\n"
   ]
  },
  {
   "cell_type": "code",
   "execution_count": 566,
   "metadata": {},
   "outputs": [
    {
     "name": "stdout",
     "output_type": "stream",
     "text": [
      "<class 'pandas.core.frame.DataFrame'>\n",
      "RangeIndex: 28115 entries, 0 to 28114\n",
      "Data columns (total 18 columns):\n",
      " #   Column                                                                                                                                                                                                                                Non-Null Count  Dtype  \n",
      "---  ------                                                                                                                                                                                                                                --------------  -----  \n",
      " 0   Timestamp                                                                                                                                                                                                                             28115 non-null  object \n",
      " 1   How old are you?                                                                                                                                                                                                                      28115 non-null  object \n",
      " 2   What industry do you work in?                                                                                                                                                                                                         28040 non-null  object \n",
      " 3   Job title                                                                                                                                                                                                                             28114 non-null  object \n",
      " 4   If your job title needs additional context, please clarify here:                                                                                                                                                                      7273 non-null   object \n",
      " 5   What is your annual salary? (You'll indicate the currency in a later question. If you are part-time or hourly, please enter an annualized equivalent -- what you would earn if you worked the job 40 hours a week, 52 weeks a year.)  28115 non-null  object \n",
      " 6   How much additional monetary compensation do you get, if any (for example, bonuses or overtime in an average year)? Please only include monetary compensation here, not the value of benefits.                                        20796 non-null  float64\n",
      " 7   Please indicate the currency                                                                                                                                                                                                          28115 non-null  object \n",
      " 8   If \"Other,\" please indicate the currency here:                                                                                                                                                                                        212 non-null    object \n",
      " 9   If your income needs additional context, please provide it here:                                                                                                                                                                      3047 non-null   object \n",
      " 10  What country do you work in?                                                                                                                                                                                                          28115 non-null  object \n",
      " 11  If you're in the U.S., what state do you work in?                                                                                                                                                                                     23077 non-null  object \n",
      " 12  What city do you work in?                                                                                                                                                                                                             28033 non-null  object \n",
      " 13  How many years of professional work experience do you have overall?                                                                                                                                                                   28115 non-null  object \n",
      " 14  How many years of professional work experience do you have in your field?                                                                                                                                                             28115 non-null  object \n",
      " 15  What is your highest level of education completed?                                                                                                                                                                                    27891 non-null  object \n",
      " 16  What is your gender?                                                                                                                                                                                                                  27943 non-null  object \n",
      " 17  What is your race? (Choose all that apply.)                                                                                                                                                                                           27937 non-null  object \n",
      "dtypes: float64(1), object(17)\n",
      "memory usage: 3.9+ MB\n"
     ]
    }
   ],
   "source": [
    "data.info()"
   ]
  },
  {
   "cell_type": "markdown",
   "metadata": {},
   "source": [
    "El conjunto de datos proporcionado tiene 28.115 registros y 18 columnas, de las cuales 16 son de tipo categórico y 2 de tipo numérico (salario anual y compesaciones adicionales). "
   ]
  },
  {
   "cell_type": "markdown",
   "metadata": {},
   "source": [
    "#### Limpieza de datos"
   ]
  },
  {
   "cell_type": "code",
   "execution_count": 567,
   "metadata": {},
   "outputs": [],
   "source": [
    "# Cambiar el nombre de las columnas a español y nombres abreviados\n",
    "data.columns = ['fecha',\n",
    "                'edad',\n",
    "                'industria',\n",
    "                'titulo_profesional',\n",
    "                'extra_titulo',\n",
    "                'salario_anual',\n",
    "                'compensaciones',\n",
    "                'moneda',\n",
    "                'otra_moneda',\n",
    "                'ingresos_extra',\n",
    "                'pais',\n",
    "                'estado',\n",
    "                'ciudad',\n",
    "                'años_experiencia_total',\n",
    "                'años_experiencia_industria',\n",
    "                'nivel_educacion',\n",
    "                'género',\n",
    "                'raza'\n",
    "                ]\n",
    "\n"
   ]
  },
  {
   "cell_type": "code",
   "execution_count": 568,
   "metadata": {},
   "outputs": [
    {
     "name": "stdout",
     "output_type": "stream",
     "text": [
      "<class 'pandas.core.frame.DataFrame'>\n",
      "RangeIndex: 28115 entries, 0 to 28114\n",
      "Data columns (total 18 columns):\n",
      " #   Column                      Non-Null Count  Dtype  \n",
      "---  ------                      --------------  -----  \n",
      " 0   fecha                       28115 non-null  object \n",
      " 1   edad                        28115 non-null  object \n",
      " 2   industria                   28040 non-null  object \n",
      " 3   titulo_profesional          28114 non-null  object \n",
      " 4   extra_titulo                7273 non-null   object \n",
      " 5   salario_anual               28115 non-null  object \n",
      " 6   compensaciones              20796 non-null  float64\n",
      " 7   moneda                      28115 non-null  object \n",
      " 8   otra_moneda                 212 non-null    object \n",
      " 9   ingresos_extra              3047 non-null   object \n",
      " 10  pais                        28115 non-null  object \n",
      " 11  estado                      23077 non-null  object \n",
      " 12  ciudad                      28033 non-null  object \n",
      " 13  años_experiencia_total      28115 non-null  object \n",
      " 14  años_experiencia_industria  28115 non-null  object \n",
      " 15  nivel_educacion             27891 non-null  object \n",
      " 16  género                      27943 non-null  object \n",
      " 17  raza                        27937 non-null  object \n",
      "dtypes: float64(1), object(17)\n",
      "memory usage: 3.9+ MB\n"
     ]
    }
   ],
   "source": [
    "data.info()"
   ]
  },
  {
   "cell_type": "code",
   "execution_count": 569,
   "metadata": {},
   "outputs": [],
   "source": [
    "# Cambiar el tipo de datos a las columnas\n",
    "data['salario_anual'] = data['salario_anual'].str.replace(',', '', regex=True).astype(float)\n",
    "data['compensaciones'] = data['compensaciones'].astype(float)"
   ]
  },
  {
   "cell_type": "code",
   "execution_count": 570,
   "metadata": {},
   "outputs": [],
   "source": [
    "# Rellenar valores nulos\n",
    "data['género'] = data['género'].fillna('Prefer not to answer')\n",
    "data['titulo_profesional'] = data['titulo_profesional'].fillna('NA')\n",
    "data['titulo_profesional'] = data['titulo_profesional'].fillna('NA')"
   ]
  },
  {
   "cell_type": "code",
   "execution_count": 571,
   "metadata": {},
   "outputs": [],
   "source": [
    "# Asegurar que las columnas a limpiar sean string\n",
    "data['pais'] = data['pais'].astype(str)\n",
    "data['ciudad'] = data['ciudad'].astype(str)\n",
    "# data['moneda'] = data['otra_moneda'].astype(str)\n",
    "# data['otra_moneda'] = data['otra_moneda'].astype(str)"
   ]
  },
  {
   "cell_type": "code",
   "execution_count": 572,
   "metadata": {},
   "outputs": [],
   "source": [
    "# Definir función para estandarizar el pais\n",
    "def estandarizar_pais(nombre):\n",
    "    nombre = nombre.strip().lower()\n",
    "    if re.findall(r\"u.s|states|us|america|u. s|u. s.|u.a.|u.s|u.s.|u.sa|ua|u.s.a.|usa|uxz|united|isa|uniter statez|virginia|hartford|san francisco|california|unitef stated\", nombre):\n",
    "        return 'USA'\n",
    "    elif re.findall(r\"united kingdom|uk|kingdom|u.k|great britain|britain|wales|europe|london|scotland|Isle of Man|Cayman Islands\",nombre):\n",
    "        return 'UK'\n",
    "    elif re.findall(r\"canada|canadw|csnada|canda|canad\",nombre):\n",
    "        return 'Canada'\n",
    "    elif re.findall(r\"hong kong|hong konh\",nombre):\n",
    "        return 'Hong Kong'\n",
    "    elif re.findall(r\"netherlands|nederland\",nombre):\n",
    "        return 'Netherlands'\n",
    "    elif re.findall(r\"england|englang\",nombre):\n",
    "        return 'England'\n",
    "    elif re.findall(r\"ireland|loutreland\",nombre):\n",
    "        return 'Ireland'\n",
    "    elif re.findall(r\"spain|catalonia\",nombre):\n",
    "        return 'Spain'\n",
    "    elif re.findall(r\"italy|italia\",nombre):\n",
    "        return 'Italy'\n",
    "    elif re.findall(r\"denmark|danmark\",nombre):\n",
    "        return 'Denmark'\n",
    "    elif re.findall(r\"vietnam|viet nam\",nombre):\n",
    "        return 'Vietnam'\n",
    "    elif re.findall(r\"panama|panamá\",nombre):\n",
    "        return 'Panama'\n",
    "    elif re.findall(r\"brazil|brasil\",nombre):\n",
    "        return 'Brazil'\n",
    "    elif re.findall(r\"mexico|méxico\",nombre):\n",
    "        return 'Mexico'\n",
    "    elif re.findall(r\"india|ibdia\",nombre):\n",
    "        return 'India'\n",
    "    elif re.findall(r\"myanmar|burma\",nombre):\n",
    "        return 'Myanmar'\n",
    "    elif re.findall(r\"czechia|česká republika\",nombre):\n",
    "        return 'Czechia'\n",
    "    elif re.findall(r\"bahamas\",nombre):\n",
    "        return 'Bahamas'\n",
    "    elif re.findall(r\"d'ivoire\",nombre):\n",
    "        return \"Côte d'Ivoire\"\n",
    "    elif re.findall(r\"china\",nombre):\n",
    "        return 'China'\n",
    "    elif re.findall(r\"africa\",nombre):\n",
    "        return 'Africa'\n",
    "    elif re.findall(r\"luxemburg\",nombre):\n",
    "        return 'Luxembourg'\n",
    "    elif re.findall(r\"other|global|contracts|i.s|remote|international|policy|dbfemf\",nombre) or len(nombre)>15 or len(nombre)<3:\n",
    "        return 'Other'    \n",
    "    else:\n",
    "        try:\n",
    "            return pycountry.countries.lookup(nombre).name\n",
    "        except LookupError:\n",
    "            return nombre  \n",
    "\n",
    "# Cargar el conjunto de datos de ciudades del mundo\n",
    "cities_df = pd.read_csv('https://raw.githubusercontent.com/datasets/world-cities/refs/heads/main/data/world-cities.csv',delimiter=',')\n",
    "# Crear una nueva columna con el nombre de la ciudad sin tildes y en minúscula\n",
    "cities_df['name_adj'] = cities_df['name'].apply(lambda nombre: ''.join(c for c in unicodedata.normalize('NFD', nombre) if unicodedata.category(c) != 'Mn')).str.lower()\n",
    "\n",
    "# Crear un diccionario para hacer búsquedas rápidas\n",
    "ciudades_dict = dict(zip(cities_df['name_adj'], cities_df['name']))\n",
    "\n",
    "# Definir función para estandarizar el nombres de las ciudades\n",
    "def estandarizar_ciudad(nombre):\n",
    "\n",
    "    # Quitar las tildes\n",
    "    nombre = ''.join(c for c in unicodedata.normalize('NFD', nombre) if unicodedata.category(c) != 'Mn')\n",
    "\n",
    "    if re.findall(r\"barxelona\",nombre):\n",
    "        nombre = 'Barcelona'\n",
    "    elif re.findall(r\"nan|remote\",nombre):\n",
    "        nombre = 'otra'\n",
    "        \n",
    "    # Eliminar los espacios en blanco y colocar la cadena en minúscula\n",
    "    nombre = nombre.strip().lower()\n",
    "\n",
    "    return ciudades_dict.get(nombre, None)"
   ]
  },
  {
   "cell_type": "code",
   "execution_count": 573,
   "metadata": {},
   "outputs": [],
   "source": [
    "# Limpiar los campos de Pais y Ciudad\n",
    "data['pais'] = data['pais'].apply(estandarizar_pais)\n",
    "data['ciudad'] = data['ciudad'].apply(estandarizar_ciudad)"
   ]
  },
  {
   "cell_type": "code",
   "execution_count": 574,
   "metadata": {},
   "outputs": [],
   "source": [
    "# Definir función para estandarizar otros tipos de monedas\n",
    "def estandarizar_otra_moneda(moneda):\n",
    "\n",
    "    # Eliminar los espacios en blanco y colocar la cadena en minúscula\n",
    "    moneda = moneda.strip().lower()\n",
    "\n",
    "    if re.findall(r\"argentino|argentine|argentinian\",moneda):\n",
    "        moneda = 'ARS'\n",
    "    elif re.findall(r\"indian|rupees\",moneda):\n",
    "        moneda = 'INR'\n",
    "    elif re.findall(r\"mexican|mexicano\",moneda):\n",
    "        moneda = 'MXN'\n",
    "    elif re.findall(r\"norwegian|norwegian\",moneda):\n",
    "        moneda = 'NOK'\n",
    "    elif re.findall(r\"brl|br\",moneda):\n",
    "        moneda = 'BRL'\n",
    "    elif re.findall(r\"american|us dollar\",moneda):\n",
    "        moneda = 'USD'\n",
    "    elif re.findall(r\"philippine|php\",moneda):\n",
    "        moneda = 'PHP'\n",
    "    elif re.findall(r\"australian\",moneda):\n",
    "        moneda = 'AUD'\n",
    "    elif re.findall(r\"ils|israeli \",moneda):\n",
    "        moneda = 'ILS'\n",
    "    elif re.findall(r\"taiwanese \",moneda):\n",
    "        moneda = 'TWD'\n",
    "    elif re.findall(r\"pln|polish\",moneda):\n",
    "        moneda = 'PLN'\n",
    "    elif re.findall(r\"czech crowns\",moneda):\n",
    "        moneda = 'CZK'\n",
    "    elif re.findall(r\"rmb|chinese\",moneda):\n",
    "        moneda = 'RMB'\n",
    "    elif re.findall(r\"krw|korean\",moneda):\n",
    "        moneda = 'KRW'\n",
    "    elif re.findall(r\"danish\",moneda):\n",
    "        moneda = 'DKK'\n",
    "    elif re.findall(r\"euro\",moneda):\n",
    "        moneda = 'EUR'\n",
    "    elif re.findall(r\"thai\",moneda):\n",
    "        moneda = 'THB'\n",
    "    elif re.findall(r\"croatian\",moneda):\n",
    "        moneda = 'HRK'\n",
    "    elif re.findall(r\"singapore\",moneda):\n",
    "        moneda = 'SGD'\n",
    "    elif re.findall(r\"colombianos|COP\",moneda):\n",
    "        moneda = 'COP'\n",
    "    elif re.findall(r\"n/a|na\",moneda):\n",
    "        moneda = None\n",
    "    elif len(moneda) == 3 or len(moneda) == 2:\n",
    "        moneda = moneda.upper()\n",
    "    return moneda\n"
   ]
  },
  {
   "cell_type": "code",
   "execution_count": 575,
   "metadata": {},
   "outputs": [],
   "source": [
    "# Estandarizar tipo de moneda     \n",
    "data['otra_moneda'] = data['otra_moneda'].astype(str).apply(estandarizar_otra_moneda)"
   ]
  },
  {
   "cell_type": "code",
   "execution_count": 576,
   "metadata": {},
   "outputs": [
    {
     "name": "stderr",
     "output_type": "stream",
     "text": [
      "c:\\Users\\sonia.olaya\\AppData\\Local\\anaconda\\Lib\\site-packages\\openpyxl\\worksheet\\_read_only.py:81: UserWarning: Web Extension extension is not supported and will be removed\n",
      "  for idx, row in parser.parse():\n"
     ]
    }
   ],
   "source": [
    "# Definir tasas de cambio a COP\n",
    "tasa_cambio = pd.read_excel('data/tasas_cambio.xlsx')"
   ]
  },
  {
   "cell_type": "code",
   "execution_count": 577,
   "metadata": {},
   "outputs": [],
   "source": [
    "# Agrupar el tipo de moneda\n",
    "data['moneda_agg'] = data.apply(lambda x: x['otra_moneda'] if x['moneda'] == 'Other' else x['moneda'], axis=1)"
   ]
  },
  {
   "cell_type": "code",
   "execution_count": 578,
   "metadata": {},
   "outputs": [],
   "source": [
    "# Definir función que recibe como parámetros el monto y la moneda, y realiza el cambio a COP\n",
    "def convertir_a_cop(monto, moneda):\n",
    "    if moneda != 'COP':\n",
    "        tasa = tasa_cambio.loc[tasa_cambio['currency'] == moneda, 'rate']\n",
    "        return monto * tasa.iloc[0] if not tasa.empty else monto\n",
    "\n",
    "    else:\n",
    "        return monto"
   ]
  },
  {
   "cell_type": "code",
   "execution_count": 579,
   "metadata": {},
   "outputs": [],
   "source": [
    "# Crear nuevos campos salario anual y compensaciones convirtiendo sueldos y compensaciones a Pesos Colombianos\n",
    "data['salario_anual_cop'] = data.apply(lambda x: convertir_a_cop(x['salario_anual'],x['moneda_agg']),axis=1).astype(float)\n",
    "data['compesaciones_cop'] = data.apply(lambda x: convertir_a_cop(x['compensaciones'],x['moneda_agg']),axis=1).astype(float)"
   ]
  },
  {
   "cell_type": "code",
   "execution_count": 580,
   "metadata": {},
   "outputs": [],
   "source": [
    "# Crear nuevo campo salario anual mas compensaciones\n",
    "data['salario_total_cop'] = data['salario_anual_cop'] + data['compesaciones_cop']"
   ]
  },
  {
   "cell_type": "code",
   "execution_count": 581,
   "metadata": {},
   "outputs": [],
   "source": [
    "# data[['edad','industria','titulo_profesional','moneda_agg','pais','ciudad','años_experiencia_total','años_experiencia_industria','nivel_educacion','género','raza','salario_anual_cop','compesaciones_cop','salario_total_cop']].to_csv('data/base_limpia.csv',index=False,sep=',')"
   ]
  }
 ],
 "metadata": {
  "kernelspec": {
   "display_name": "base",
   "language": "python",
   "name": "python3"
  },
  "language_info": {
   "codemirror_mode": {
    "name": "ipython",
    "version": 3
   },
   "file_extension": ".py",
   "mimetype": "text/x-python",
   "name": "python",
   "nbconvert_exporter": "python",
   "pygments_lexer": "ipython3",
   "version": "3.12.4"
  }
 },
 "nbformat": 4,
 "nbformat_minor": 2
}
