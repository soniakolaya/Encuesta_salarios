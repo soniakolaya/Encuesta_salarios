{
 "cells": [
  {
   "cell_type": "markdown",
   "metadata": {},
   "source": [
    "#### Importación de librerias"
   ]
  },
  {
   "cell_type": "code",
   "execution_count": 274,
   "metadata": {},
   "outputs": [],
   "source": [
    "import pandas as pd\n",
    "import numpy as np\n",
    "import matplotlib.pyplot as plt\n",
    "import seaborn as sns\n",
    "import pycountry\n",
    "import re\n",
    "import unicodedata\n",
    "import requests\n"
   ]
  },
  {
   "cell_type": "markdown",
   "metadata": {},
   "source": [
    "#### Cargue de datos"
   ]
  },
  {
   "cell_type": "code",
   "execution_count": 275,
   "metadata": {},
   "outputs": [],
   "source": [
    "data = pd.read_csv('data/raw_data.csv',delimiter=',')\n"
   ]
  },
  {
   "cell_type": "code",
   "execution_count": 276,
   "metadata": {},
   "outputs": [
    {
     "name": "stdout",
     "output_type": "stream",
     "text": [
      "<class 'pandas.core.frame.DataFrame'>\n",
      "RangeIndex: 28115 entries, 0 to 28114\n",
      "Data columns (total 18 columns):\n",
      " #   Column                                                                                                                                                                                                                                Non-Null Count  Dtype  \n",
      "---  ------                                                                                                                                                                                                                                --------------  -----  \n",
      " 0   Timestamp                                                                                                                                                                                                                             28115 non-null  object \n",
      " 1   How old are you?                                                                                                                                                                                                                      28115 non-null  object \n",
      " 2   What industry do you work in?                                                                                                                                                                                                         28040 non-null  object \n",
      " 3   Job title                                                                                                                                                                                                                             28114 non-null  object \n",
      " 4   If your job title needs additional context, please clarify here:                                                                                                                                                                      7273 non-null   object \n",
      " 5   What is your annual salary? (You'll indicate the currency in a later question. If you are part-time or hourly, please enter an annualized equivalent -- what you would earn if you worked the job 40 hours a week, 52 weeks a year.)  28115 non-null  object \n",
      " 6   How much additional monetary compensation do you get, if any (for example, bonuses or overtime in an average year)? Please only include monetary compensation here, not the value of benefits.                                        20796 non-null  float64\n",
      " 7   Please indicate the currency                                                                                                                                                                                                          28115 non-null  object \n",
      " 8   If \"Other,\" please indicate the currency here:                                                                                                                                                                                        212 non-null    object \n",
      " 9   If your income needs additional context, please provide it here:                                                                                                                                                                      3047 non-null   object \n",
      " 10  What country do you work in?                                                                                                                                                                                                          28115 non-null  object \n",
      " 11  If you're in the U.S., what state do you work in?                                                                                                                                                                                     23077 non-null  object \n",
      " 12  What city do you work in?                                                                                                                                                                                                             28033 non-null  object \n",
      " 13  How many years of professional work experience do you have overall?                                                                                                                                                                   28115 non-null  object \n",
      " 14  How many years of professional work experience do you have in your field?                                                                                                                                                             28115 non-null  object \n",
      " 15  What is your highest level of education completed?                                                                                                                                                                                    27891 non-null  object \n",
      " 16  What is your gender?                                                                                                                                                                                                                  27943 non-null  object \n",
      " 17  What is your race? (Choose all that apply.)                                                                                                                                                                                           27937 non-null  object \n",
      "dtypes: float64(1), object(17)\n",
      "memory usage: 3.9+ MB\n"
     ]
    }
   ],
   "source": [
    "data.info()"
   ]
  },
  {
   "cell_type": "markdown",
   "metadata": {},
   "source": [
    "El conjunto de datos proporcionado tiene 28.115 registros y 18 columnas, de las cuales 16 son de tipo categórico y 2 de tipo numérico (salario anual y compesaciones adicionales). "
   ]
  },
  {
   "cell_type": "markdown",
   "metadata": {},
   "source": [
    "#### Limpieza de datos"
   ]
  },
  {
   "cell_type": "code",
   "execution_count": 277,
   "metadata": {},
   "outputs": [],
   "source": [
    "# Cambiar el nombre de las columnas a español y nombres abreviados\n",
    "data.columns = ['fecha',\n",
    "                'edad',\n",
    "                'industria',\n",
    "                'titulo_profesional',\n",
    "                'extra_titulo',\n",
    "                'salario_anual',\n",
    "                'compensaciones',\n",
    "                'moneda',\n",
    "                'otra_moneda',\n",
    "                'ingresos_extra',\n",
    "                'pais',\n",
    "                'estado',\n",
    "                'ciudad',\n",
    "                'años_experiencia_total',\n",
    "                'años_experiencia_industria',\n",
    "                'nivel_educacion',\n",
    "                'género',\n",
    "                'raza'\n",
    "                ]\n",
    "\n"
   ]
  },
  {
   "cell_type": "code",
   "execution_count": 284,
   "metadata": {},
   "outputs": [],
   "source": [
    "data['salario_anual'] = data['salario_anual'].str.replace(',', '', regex=True).astype(float)\n",
    "data['compensaciones'] = data['compensaciones'].astype(float)"
   ]
  },
  {
   "cell_type": "code",
   "execution_count": 278,
   "metadata": {},
   "outputs": [],
   "source": [
    "\n",
    "# Asegurar que las columnas de Pais y Ciudad sean string\n",
    "data['pais'] = data['pais'].astype(str)\n",
    "data['ciudad'] = data['ciudad'].astype(str)"
   ]
  },
  {
   "cell_type": "code",
   "execution_count": 279,
   "metadata": {},
   "outputs": [],
   "source": [
    "def estandarizar_pais(nombre):\n",
    "    nombre = nombre.strip().lower()\n",
    "    if re.findall(r\"u.s|states|us|america|u. s|u. s.|u.a.|u.s|u.s.|u.sa|ua|u.s.a.|usa|uxz|united|isa|uniter statez|virginia|hartford|san francisco|california\", nombre):\n",
    "        return 'USA'\n",
    "    elif re.findall(r\"united kingdom|uk|kingdom|u.k|great britain|britain|wales|europe|london|scotland|Isle of Man|Cayman Islands\",nombre):\n",
    "        return 'UK'\n",
    "    elif re.findall(r\"canada|canadw|csnada|canda|canad\",nombre):\n",
    "        return 'Canada'\n",
    "    elif re.findall(r\"hong kong|hong konh\",nombre):\n",
    "        return 'Hong Kong'\n",
    "    elif re.findall(r\"netherlands|nederland\",nombre):\n",
    "        return 'Netherlands'\n",
    "    elif re.findall(r\"england|englang\",nombre):\n",
    "        return 'England'\n",
    "    elif re.findall(r\"ireland|loutreland\",nombre):\n",
    "        return 'Ireland'\n",
    "    elif re.findall(r\"spain|catalonia\",nombre):\n",
    "        return 'Spain'\n",
    "    elif re.findall(r\"italy|italia\",nombre):\n",
    "        return 'Italy'\n",
    "    elif re.findall(r\"denmark|danmark\",nombre):\n",
    "        return 'Denmark'\n",
    "    elif re.findall(r\"vietnam|viet nam\",nombre):\n",
    "        return 'Vietnam'\n",
    "    elif re.findall(r\"panama|panamá\",nombre):\n",
    "        return 'Panama'\n",
    "    elif re.findall(r\"brazil|brasil\",nombre):\n",
    "        return 'Brazil'\n",
    "    elif re.findall(r\"mexico|méxico\",nombre):\n",
    "        return 'Mexico'\n",
    "    elif re.findall(r\"india|ibdia\",nombre):\n",
    "        return 'India'\n",
    "    elif re.findall(r\"myanmar|burma\",nombre):\n",
    "        return 'Myanmar'\n",
    "    elif re.findall(r\"czechia|česká republika\",nombre):\n",
    "        return 'Czechia'\n",
    "    elif re.findall(r\"bahamas\",nombre):\n",
    "        return 'Bahamas'\n",
    "    elif re.findall(r\"d'ivoire\",nombre):\n",
    "        return \"Côte d'Ivoire\"\n",
    "    elif re.findall(r\"china\",nombre):\n",
    "        return 'China'\n",
    "    elif re.findall(r\"africa\",nombre):\n",
    "        return 'Africa'\n",
    "    elif re.findall(r\"luxemburg\",nombre):\n",
    "        return 'Luxembourg'\n",
    "    elif re.findall(r\"other|global|contracts|i.s|remote|international|policy|dbfemf\",nombre) or len(nombre)>15 or len(nombre)<3:\n",
    "        return 'Other'    \n",
    "    else:\n",
    "        try:\n",
    "            return pycountry.countries.lookup(nombre).name\n",
    "        except LookupError:\n",
    "            return nombre  \n",
    "\n",
    "# Cargar el conjunto de datos de ciudades del mundo\n",
    "cities_df = pd.read_csv('https://raw.githubusercontent.com/datasets/world-cities/refs/heads/main/data/world-cities.csv',delimiter=',')\n",
    "# Crear una nueva columna con el nombre de la ciudad sin tildes y en minúscula\n",
    "cities_df['name_adj'] = cities_df['name'].apply(lambda nombre: ''.join(c for c in unicodedata.normalize('NFD', nombre) if unicodedata.category(c) != 'Mn')).str.lower()\n",
    "\n",
    "# Crear un diccionario para hacer búsquedas rápidas\n",
    "ciudades_dict = dict(zip(cities_df['name_adj'], cities_df['name']))\n",
    "\n",
    "# Definir función para estandarizar el nombres de las ciudades\n",
    "def estandarizar_ciudad(nombre):\n",
    "\n",
    "    # Quitar las tildes\n",
    "    nombre = ''.join(c for c in unicodedata.normalize('NFD', nombre) if unicodedata.category(c) != 'Mn')\n",
    "\n",
    "    if re.findall(r\"barxelona\",nombre):\n",
    "        nombre = 'Barcelona'\n",
    "    elif re.findall(r\"nan|remote\",nombre):\n",
    "        nombre = 'otra'\n",
    "        \n",
    "    # Eliminar los espacios en blanco y colocar la cadena en minúscula\n",
    "    nombre = nombre.strip().lower()\n",
    "\n",
    "    return ciudades_dict.get(nombre, None)"
   ]
  },
  {
   "cell_type": "code",
   "execution_count": 280,
   "metadata": {},
   "outputs": [],
   "source": [
    "# Limpiar los campos de Pais y Ciudad\n",
    "data['pais'] = data['pais'].apply(estandarizar_pais)\n",
    "data['ciudad'] = data['ciudad'].apply(estandarizar_ciudad)"
   ]
  },
  {
   "cell_type": "code",
   "execution_count": null,
   "metadata": {},
   "outputs": [],
   "source": [
    "# Definir tasas de cambio a COP\n",
    "tasa_cambio = {'USD':4153.28,\n",
    "               'GBP': 5152.05,\n",
    "               'CAD': 2885.65,\n",
    "               'EUR': 4293.20,\n",
    "               'AUD/NZD': 2604.10,\n",
    "               'CHF':4565.48,\n",
    "               'ZAR':224.47,\n",
    "               'SEK':376.53,\n",
    "               'HKD':533.11,\n",
    "               'JPY':27.44}"
   ]
  },
  {
   "cell_type": "code",
   "execution_count": null,
   "metadata": {},
   "outputs": [],
   "source": [
    "# Definir función que recibe como parámetros el monto y la moneda, y realiza el cambio a COP\n",
    "def convertir_a_cop(monto, moneda):\n",
    "    moneda = 'USD' if moneda == 'Other' else moneda \n",
    "    try:\n",
    "        return monto * tasa_cambio[moneda]\n",
    "    except KeyError:\n",
    "        return None"
   ]
  },
  {
   "cell_type": "code",
   "execution_count": null,
   "metadata": {},
   "outputs": [],
   "source": [
    "# Crear nuevos campos salario anual y compensaciones convirtiendo sueldos y compensaciones a Pesos Colombianos\n",
    "data['salario_anual_cop'] = data.apply(lambda x: convertir_a_cop(x['salario_anual'],x['moneda']),axis=1).astype(float)\n",
    "data['compesaciones_cop'] = data.apply(lambda x: convertir_a_cop(x['compensaciones'],x['moneda']),axis=1).astype(float)"
   ]
  },
  {
   "cell_type": "code",
   "execution_count": 287,
   "metadata": {},
   "outputs": [],
   "source": [
    "# Crear nuevo campo salario anual mas compensaciones\n",
    "data['salario_total_cop'] = data['salario_anual_cop'] + data['compesaciones_cop']"
   ]
  },
  {
   "cell_type": "code",
   "execution_count": null,
   "metadata": {},
   "outputs": [],
   "source": [
    "data.to_csv('database_limpia.csv')"
   ]
  }
 ],
 "metadata": {
  "kernelspec": {
   "display_name": "base",
   "language": "python",
   "name": "python3"
  },
  "language_info": {
   "codemirror_mode": {
    "name": "ipython",
    "version": 3
   },
   "file_extension": ".py",
   "mimetype": "text/x-python",
   "name": "python",
   "nbconvert_exporter": "python",
   "pygments_lexer": "ipython3",
   "version": "3.12.4"
  }
 },
 "nbformat": 4,
 "nbformat_minor": 2
}
